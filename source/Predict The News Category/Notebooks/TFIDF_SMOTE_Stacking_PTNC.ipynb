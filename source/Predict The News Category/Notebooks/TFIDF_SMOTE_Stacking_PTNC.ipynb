{
 "cells": [
  {
   "cell_type": "markdown",
   "metadata": {},
   "source": [
    "# Predict The News Category : Anshul Patel"
   ]
  },
  {
   "cell_type": "markdown",
   "metadata": {},
   "source": [
    "#### Import General Libraries"
   ]
  },
  {
   "cell_type": "code",
   "execution_count": null,
   "metadata": {},
   "outputs": [],
   "source": [
    "from nltk.tokenize import word_tokenize\n",
    "import re\n",
    "import nltk\n",
    "nltk.download('stopwords')\n",
    "nltk.download('punkt')\n",
    "from nltk.corpus import stopwords\n",
    "from nltk.stem.porter import PorterStemmer\n",
    "import pandas as pd\n",
    "import numpy as np\n",
    "from sklearn.model_selection import train_test_split\n",
    "from sklearn.metrics import classification_report\n",
    "import joblib\n",
    "from imblearn.over_sampling import SMOTE"
   ]
  },
  {
   "cell_type": "markdown",
   "metadata": {},
   "source": [
    "#### Import Training Data"
   ]
  },
  {
   "cell_type": "code",
   "execution_count": null,
   "metadata": {},
   "outputs": [],
   "source": [
    "docs = pd.read_excel('Data_Train.xlsx',sheet_name='Sheet1')\n",
    "docs.head()"
   ]
  },
  {
   "cell_type": "code",
   "execution_count": null,
   "metadata": {},
   "outputs": [],
   "source": [
    "y = docs['SECTION']\n",
    "y = y.to_numpy()"
   ]
  },
  {
   "cell_type": "markdown",
   "metadata": {},
   "source": [
    "#### Preprocessing Text Data"
   ]
  },
  {
   "cell_type": "code",
   "execution_count": null,
   "metadata": {},
   "outputs": [],
   "source": [
    "def preprocess(message):\n",
    "    message = str(message)\n",
    "    message = message.lower()\n",
    "    message = re.sub('[^a-zA-Z]',' ', message)\n",
    "    words = word_tokenize(message)\n",
    "    sw = stopwords.words('english')\n",
    "    words = [word for word in words if word not in sw]\n",
    "    stemmer = PorterStemmer()\n",
    "    words = [stemmer.stem(word) for word in words]\n",
    "    words = ' '.join(words)\n",
    "    return words"
   ]
  },
  {
   "cell_type": "code",
   "execution_count": null,
   "metadata": {},
   "outputs": [],
   "source": [
    "X_og = []\n",
    "X = []\n",
    "for msg in docs['STORY']:\n",
    "    word_list = preprocess(msg)\n",
    "    X_og.append(msg)\n",
    "    X.append(word_list)"
   ]
  },
  {
   "cell_type": "markdown",
   "metadata": {},
   "source": [
    "#### Train-Test Split"
   ]
  },
  {
   "cell_type": "code",
   "execution_count": null,
   "metadata": {},
   "outputs": [],
   "source": [
    "X_train_og, X_test_og, y_train, y_test = train_test_split(X_og, y,random_state = 42, test_size=0.33,stratify = y)  \n",
    "X_train, X_test, y_train, y_test = train_test_split(X, y,random_state = 42, test_size=0.33,stratify = y)  \n",
    "unique_elements, counts_elements = np.unique(y_train, return_counts=True)\n",
    "print(\"Frequency of unique values of the said array:\")\n",
    "print(np.asarray((unique_elements, counts_elements)))"
   ]
  },
  {
   "cell_type": "markdown",
   "metadata": {},
   "source": [
    "#### Generate TF-IDF Vectors"
   ]
  },
  {
   "cell_type": "code",
   "execution_count": null,
   "metadata": {},
   "outputs": [],
   "source": [
    "from sklearn.feature_extraction.text import TfidfVectorizer\n",
    "tf=TfidfVectorizer(max_features=3000)\n",
    "X_train_tf=tf.fit_transform(X_train)\n",
    "unique=tf.get_feature_names()\n",
    "dense = X_train_tf.todense()\n",
    "denselist = dense.tolist()\n",
    "train_df = pd.DataFrame(denselist, columns=unique)\n",
    "\n",
    "X_test_tf = tf.transform(X_test)\n",
    "dense = X_test_tf.todense()\n",
    "denselist = dense.tolist()\n",
    "test_df = pd.DataFrame(denselist, columns=unique)"
   ]
  },
  {
   "cell_type": "markdown",
   "metadata": {},
   "source": [
    "#### Apply SMOTE on train-data"
   ]
  },
  {
   "cell_type": "code",
   "execution_count": null,
   "metadata": {},
   "outputs": [],
   "source": [
    "sm = SMOTE('auto')\n",
    "x_res, y_res = sm.fit_sample(train_df, y_train)\n",
    "\n",
    "unique_elements, counts_elements = np.unique(y_res, return_counts=True)\n",
    "print(\"Frequency of unique values of the said array:\")\n",
    "print(np.asarray((unique_elements, counts_elements)))"
   ]
  },
  {
   "cell_type": "markdown",
   "metadata": {},
   "source": [
    "#### Import Models"
   ]
  },
  {
   "cell_type": "code",
   "execution_count": null,
   "metadata": {},
   "outputs": [],
   "source": [
    "from sklearn.linear_model import LogisticRegression\n",
    "from xgboost import XGBClassifier\n",
    "from sklearn.neighbors import KNeighborsClassifier\n",
    "from sklearn import tree\n",
    "from sklearn.ensemble import RandomForestClassifier\n",
    "from sklearn.svm import SVC\n",
    "from sklearn.ensemble import GradientBoostingClassifier"
   ]
  },
  {
   "cell_type": "markdown",
   "metadata": {},
   "source": [
    "#### Fit on Stacking Classifier"
   ]
  },
  {
   "cell_type": "code",
   "execution_count": null,
   "metadata": {},
   "outputs": [],
   "source": [
    "from sklearn.ensemble import StackingClassifier\n",
    "estimators = [('SVC', SVC(kernel = 'rbf', random_state = 0, probability = True)),('XG', XGBClassifier()),('RF', RandomForestClassifier(random_state=0)), ('LR',LogisticRegression()),('GBC', GradientBoostingClassifier(n_estimators=300, learning_rate=1.0,max_depth=5, random_state=0)) ]\n",
    "clf = StackingClassifier(estimators=estimators, final_estimator=LogisticRegression())\n",
    "clf.fit(x_res,y_res)        \n",
    "ypred1 = clf.predict(test_df)\n",
    "ypred_prob1 = clf.predict_proba(test_df)\n",
    "print(classification_report(y_test,ypred1)) "
   ]
  },
  {
   "cell_type": "markdown",
   "metadata": {},
   "source": [
    "#### Save Model"
   ]
  },
  {
   "cell_type": "code",
   "execution_count": null,
   "metadata": {},
   "outputs": [],
   "source": [
    "#Saving the stacking model\n",
    "filename = 'PTNC_sclf.sav'\n",
    "joblib.dump(clf, filename)\n",
    "\n",
    "filename = 'PTNC_Stacking_TFIDF.sav'\n",
    "joblib.dump(tf, filename)"
   ]
  },
  {
   "cell_type": "markdown",
   "metadata": {},
   "source": [
    "#### Produce results on Test Data"
   ]
  },
  {
   "cell_type": "code",
   "execution_count": null,
   "metadata": {},
   "outputs": [],
   "source": [
    "test_docs = pd.read_excel('Data_Test.xlsx',sheet_name='Sheet1')\n",
    "X_T_og = []\n",
    "X_T = []\n",
    "for msg in test_docs['STORY']:\n",
    "    word_list = preprocess(msg)\n",
    "    X_T_og.append(msg)\n",
    "    X_T.append(word_list)\n",
    "    \n",
    "X_test_tf = tf.transform(X_T)\n",
    "dense = X_test_tf.todense()\n",
    "denselist = dense.tolist()\n",
    "test_df_T = pd.DataFrame(denselist, columns=unique)\n",
    "ypred_T = clf.predict(test_df_T)\n",
    "df_T = pd.DataFrame(ypred_T)\n",
    "df_T.to_excel(excel_writer = \"SmoteResult.xlsx\")"
   ]
  },
  {
   "cell_type": "markdown",
   "metadata": {},
   "source": [
    "## RESULT ON PUBLIC DATA : 0.97452"
   ]
  },
  {
   "cell_type": "code",
   "execution_count": null,
   "metadata": {},
   "outputs": [],
   "source": []
  }
 ],
 "metadata": {
  "kernelspec": {
   "display_name": "Python 3",
   "language": "python",
   "name": "python3"
  },
  "language_info": {
   "codemirror_mode": {
    "name": "ipython",
    "version": 3
   },
   "file_extension": ".py",
   "mimetype": "text/x-python",
   "name": "python",
   "nbconvert_exporter": "python",
   "pygments_lexer": "ipython3",
   "version": "3.7.9"
  }
 },
 "nbformat": 4,
 "nbformat_minor": 4
}
